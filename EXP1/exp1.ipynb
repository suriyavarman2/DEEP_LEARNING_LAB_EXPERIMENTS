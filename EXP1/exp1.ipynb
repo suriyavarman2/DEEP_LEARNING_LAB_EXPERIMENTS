{
 "cells": [
  {
   "cell_type": "code",
   "execution_count": 1,
   "id": "ac96a19e-5b39-4156-b2b6-0e9ef4b232e1",
   "metadata": {},
   "outputs": [],
   "source": [
    "import tensorflow as tf"
   ]
  },
  {
   "cell_type": "code",
   "execution_count": 2,
   "id": "79b9d720-9afa-4dad-baa1-b6548c66d826",
   "metadata": {},
   "outputs": [],
   "source": [
    "import numpy as np "
   ]
  },
  {
   "cell_type": "code",
   "execution_count": 4,
   "id": "fe4b0175-dd02-4eb8-b2fe-71712eebe359",
   "metadata": {},
   "outputs": [],
   "source": [
    "arr=np.array([[1,2,3,4],[4,5,6,0],[2,0,7,8],[3,7,4,2]])"
   ]
  },
  {
   "cell_type": "code",
   "execution_count": 5,
   "id": "c7489aac-a7d0-492a-818e-faacb8d0d833",
   "metadata": {},
   "outputs": [],
   "source": [
    "gfg=tf.data.Dataset.from_tensor_slices(arr)"
   ]
  },
  {
   "cell_type": "code",
   "execution_count": 6,
   "id": "6434c05d-1fa0-4ed5-bd83-e7fc115945d6",
   "metadata": {},
   "outputs": [
    {
     "name": "stdout",
     "output_type": "stream",
     "text": [
      "[1 2 3 4]\n",
      "[4 5 6 0]\n",
      "[2 0 7 8]\n",
      "[3 7 4 2]\n"
     ]
    }
   ],
   "source": [
    "for i in gfg:\n",
    "    print(i.numpy())"
   ]
  },
  {
   "cell_type": "code",
   "execution_count": 7,
   "id": "4adf9109-5eaf-432c-888a-167a2463bf71",
   "metadata": {},
   "outputs": [
    {
     "data": {
      "text/plain": [
       "<map at 0x2c6b0792ee0>"
      ]
     },
     "execution_count": 7,
     "metadata": {},
     "output_type": "execute_result"
    }
   ],
   "source": [
    "map(max,arr)"
   ]
  },
  {
   "cell_type": "code",
   "execution_count": 8,
   "id": "e3270353-91f0-4335-9fd4-b6fe2c8e54d5",
   "metadata": {},
   "outputs": [
    {
     "data": {
      "text/plain": [
       "[4, 6, 8, 7]"
      ]
     },
     "execution_count": 8,
     "metadata": {},
     "output_type": "execute_result"
    }
   ],
   "source": [
    "list(map(max,arr))"
   ]
  },
  {
   "cell_type": "code",
   "execution_count": 9,
   "id": "78d3b395-e385-4f2f-b5cf-d61bb56a1f91",
   "metadata": {},
   "outputs": [],
   "source": [
    "v=tf.constant([[2,5,1],[7,12,4],[19,5,6]])\n",
    "v2=tf.constant([[13,4,11],[67,23,45],[71,11,10]])"
   ]
  },
  {
   "cell_type": "code",
   "execution_count": null,
   "id": "b11a481d-a7ee-43db-89ce-eb0748944005",
   "metadata": {},
   "outputs": [],
   "source": []
  },
  {
   "cell_type": "code",
   "execution_count": 10,
   "id": "6c2eec76-0e5e-403a-a39e-7423aa3d16e2",
   "metadata": {},
   "outputs": [],
   "source": [
    "v3=v+v2"
   ]
  },
  {
   "cell_type": "code",
   "execution_count": 11,
   "id": "38aba51e-6f49-4531-9f9a-e29cff66369f",
   "metadata": {},
   "outputs": [
    {
     "data": {
      "text/plain": [
       "<tf.Tensor: shape=(3, 3), dtype=int32, numpy=\n",
       "array([[15,  9, 12],\n",
       "       [74, 35, 49],\n",
       "       [90, 16, 16]])>"
      ]
     },
     "execution_count": 11,
     "metadata": {},
     "output_type": "execute_result"
    }
   ],
   "source": [
    "v3"
   ]
  },
  {
   "cell_type": "code",
   "execution_count": 12,
   "id": "0c29c19d-e65d-402a-88e3-1f8b0fcb6933",
   "metadata": {},
   "outputs": [],
   "source": [
    "list=[[1,2,3],[2,3,4],[4,5,6]]"
   ]
  },
  {
   "cell_type": "code",
   "execution_count": 13,
   "id": "9eeb727d-209d-41b0-ae03-5d149e25739c",
   "metadata": {},
   "outputs": [],
   "source": [
    "c=tf.add(list,v)"
   ]
  },
  {
   "cell_type": "code",
   "execution_count": 14,
   "id": "cb1fdbe4-3670-495e-a1f5-6091edd2e77c",
   "metadata": {},
   "outputs": [
    {
     "data": {
      "text/plain": [
       "<tf.Tensor: shape=(3, 3), dtype=int32, numpy=\n",
       "array([[ 3,  7,  4],\n",
       "       [ 9, 15,  8],\n",
       "       [23, 10, 12]])>"
      ]
     },
     "execution_count": 14,
     "metadata": {},
     "output_type": "execute_result"
    }
   ],
   "source": [
    "c"
   ]
  },
  {
   "cell_type": "code",
   "execution_count": null,
   "id": "c642c616-95a4-434e-b84a-87dee3cf64e5",
   "metadata": {},
   "outputs": [],
   "source": []
  }
 ],
 "metadata": {
  "kernelspec": {
   "display_name": "Python 3 (ipykernel)",
   "language": "python",
   "name": "python3"
  },
  "language_info": {
   "codemirror_mode": {
    "name": "ipython",
    "version": 3
   },
   "file_extension": ".py",
   "mimetype": "text/x-python",
   "name": "python",
   "nbconvert_exporter": "python",
   "pygments_lexer": "ipython3",
   "version": "3.9.12"
  }
 },
 "nbformat": 4,
 "nbformat_minor": 5
}
